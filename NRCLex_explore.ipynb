{
 "cells": [
  {
   "cell_type": "markdown",
   "metadata": {},
   "source": [
    "\"$\\href{https://pypi.org/project/NRCLex/}{\\text{NRCLex}}$ will measure emotional affect from a body of text. Affect dictionary contains approximately 27,000 words, and is based on the National Research Council Canada (NRC) affect lexicon (see link below) and the NLTK library's WordNet synonym sets.\"\n",
    "\n"
   ]
  },
  {
   "cell_type": "code",
   "execution_count": 1,
   "metadata": {},
   "outputs": [
    {
     "name": "stdout",
     "output_type": "stream",
     "text": [
      "Collecting NRCLex\n",
      "  Downloading NRCLex-3.0.0.tar.gz (396 kB)\n",
      "\u001b[K     |████████████████████████████████| 396 kB 1.9 MB/s eta 0:00:01\n",
      "\u001b[?25hCollecting textblob\n",
      "  Downloading textblob-0.17.1-py2.py3-none-any.whl (636 kB)\n",
      "\u001b[K     |████████████████████████████████| 636 kB 29.2 MB/s eta 0:00:01\n",
      "\u001b[?25hRequirement already satisfied: nltk>=3.1; python_version >= \"3\" in /Users/yangyi/opt/anaconda3/lib/python3.8/site-packages (from textblob->NRCLex) (3.5)\n",
      "Requirement already satisfied: click in /Users/yangyi/opt/anaconda3/lib/python3.8/site-packages (from nltk>=3.1; python_version >= \"3\"->textblob->NRCLex) (7.1.2)\n",
      "Requirement already satisfied: joblib in /Users/yangyi/opt/anaconda3/lib/python3.8/site-packages (from nltk>=3.1; python_version >= \"3\"->textblob->NRCLex) (0.17.0)\n",
      "Requirement already satisfied: tqdm in /Users/yangyi/opt/anaconda3/lib/python3.8/site-packages (from nltk>=3.1; python_version >= \"3\"->textblob->NRCLex) (4.50.2)\n",
      "Requirement already satisfied: regex in /Users/yangyi/opt/anaconda3/lib/python3.8/site-packages (from nltk>=3.1; python_version >= \"3\"->textblob->NRCLex) (2020.10.15)\n",
      "Building wheels for collected packages: NRCLex\n",
      "  Building wheel for NRCLex (setup.py) ... \u001b[?25ldone\n",
      "\u001b[?25h  Created wheel for NRCLex: filename=NRCLex-3.0.0-py3-none-any.whl size=43310 sha256=91dc679decabbea895bed2abb666b95a78580294881b6e4c777f4da4800a18fb\n",
      "  Stored in directory: /Users/yangyi/Library/Caches/pip/wheels/83/95/c0/42b43fb15eb48e4f5a67cba8915540cb2783591c59c037a9e5\n",
      "Successfully built NRCLex\n",
      "Installing collected packages: textblob, NRCLex\n",
      "Successfully installed NRCLex-3.0.0 textblob-0.17.1\n",
      "Note: you may need to restart the kernel to use updated packages.\n"
     ]
    }
   ],
   "source": [
    "pip install NRCLex"
   ]
  },
  {
   "cell_type": "code",
   "execution_count": 6,
   "metadata": {},
   "outputs": [
    {
     "name": "stderr",
     "output_type": "stream",
     "text": [
      "[nltk_data] Downloading package punkt to /Users/yangyi/nltk_data...\n",
      "[nltk_data]   Unzipping tokenizers/punkt.zip.\n"
     ]
    }
   ],
   "source": [
    "import nltk\n",
    "nltk.download('punkt')\n",
    "from nrclex import NRCLex"
   ]
  },
  {
   "cell_type": "markdown",
   "metadata": {},
   "source": [
    "### Possible Affects:\n",
    "- fear\n",
    "- anger\n",
    "- anticipation\n",
    "- trust\n",
    "- surprise\n",
    "- positive\n",
    "- negative\n",
    "- sadness\n",
    "- disgust\n",
    "- joy"
   ]
  },
  {
   "cell_type": "code",
   "execution_count": 20,
   "metadata": {},
   "outputs": [
    {
     "name": "stdout",
     "output_type": "stream",
     "text": [
      "[('fear', 0.0), ('anger', 0.0), ('anticip', 0.0), ('trust', 0.0), ('surprise', 0.0), ('positive', 0.0), ('negative', 0.0), ('sadness', 0.0), ('disgust', 0.0), ('joy', 0.0)]\n"
     ]
    }
   ],
   "source": [
    "text = \"Hello World\"\n",
    "emotion = NRCLex(text)    # Instantiate text object (for best results, 'text' should be unicode)\n",
    "\n",
    "print(emotion.top_emotions)"
   ]
  },
  {
   "cell_type": "code",
   "execution_count": 22,
   "metadata": {},
   "outputs": [
    {
     "name": "stdout",
     "output_type": "stream",
     "text": [
      "[('positive', 0.6666666666666666)]\n",
      "{'joy': 1, 'positive': 2}\n"
     ]
    }
   ],
   "source": [
    "text = \"I love to visit historical places\"\n",
    "emotion = NRCLex(text)\n",
    "\n",
    "print(emotion.top_emotions)\n",
    "print(emotion.raw_emotion_scores)"
   ]
  },
  {
   "cell_type": "code",
   "execution_count": 9,
   "metadata": {},
   "outputs": [
    {
     "name": "stdout",
     "output_type": "stream",
     "text": [
      "[('positive', 1.0)]\n"
     ]
    }
   ],
   "source": [
    "# slight change in capitalization\n",
    "text = \"I Love to visit historical places\"\n",
    "emotion = NRCLex(text)\n",
    "\n",
    "print(emotion.top_emotions)"
   ]
  },
  {
   "cell_type": "code",
   "execution_count": 19,
   "metadata": {},
   "outputs": [
    {
     "name": "stdout",
     "output_type": "stream",
     "text": [
      "[('fear', 0.16666666666666666), ('anger', 0.16666666666666666), ('positive', 0.16666666666666666), ('negative', 0.16666666666666666), ('sadness', 0.16666666666666666), ('disgust', 0.16666666666666666)] \n",
      "\n",
      "['I', 'hate', 'to', 'visit', 'historical', 'places'] \n",
      "\n",
      "[Sentence(\"I hate to visit historical places\")] \n",
      "\n",
      "['anger', 'disgust', 'fear', 'negative', 'sadness', 'positive'] \n",
      "\n",
      "{'hate': ['anger', 'disgust', 'fear', 'negative', 'sadness'], 'visit': ['positive']} \n",
      "\n",
      "{'anger': 1, 'disgust': 1, 'fear': 1, 'negative': 1, 'sadness': 1, 'positive': 1} \n",
      "\n",
      "{'fear': 0.16666666666666666, 'anger': 0.16666666666666666, 'anticip': 0.0, 'trust': 0.0, 'surprise': 0.0, 'positive': 0.16666666666666666, 'negative': 0.16666666666666666, 'sadness': 0.16666666666666666, 'disgust': 0.16666666666666666, 'joy': 0.0} \n",
      "\n"
     ]
    }
   ],
   "source": [
    "# explore all parameters of class NRCLex\n",
    "text = \"I hate to visit historical places\"\n",
    "emotion = NRCLex(text)\n",
    "\n",
    "# parameters\n",
    "print(emotion.top_emotions,\"\\n\")    # highest emotion\n",
    "print(emotion.words,\"\\n\")    # return word list\n",
    "print(emotion.sentences,\"\\n\")    # return sentence list\n",
    "print(emotion.affect_list,\"\\n\")    # return affect list\n",
    "print(emotion.affect_dict,\"\\n\")    # return affect dictionary\n",
    "print(emotion.raw_emotion_scores,\"\\n\")    # return raw emotion score\n",
    "print(emotion.affect_frequencies,\"\\n\")    # return affect frequency"
   ]
  },
  {
   "cell_type": "code",
   "execution_count": 24,
   "metadata": {},
   "outputs": [
    {
     "name": "stdout",
     "output_type": "stream",
     "text": [
      "[('fear', 0.2), ('anger', 0.2), ('negative', 0.2), ('sadness', 0.2), ('disgust', 0.2)]\n",
      "[('positive', 0.5), ('joy', 0.5)]\n",
      "[('fear', 0.0), ('anger', 0.0), ('anticip', 0.0), ('trust', 0.0), ('surprise', 0.0), ('positive', 0.0), ('negative', 0.0), ('sadness', 0.0), ('disgust', 0.0), ('joy', 0.0)]\n",
      "[('fear', 0.0), ('anger', 0.0), ('anticip', 0.0), ('trust', 0.0), ('surprise', 0.0), ('positive', 0.0), ('negative', 0.0), ('sadness', 0.0), ('disgust', 0.0), ('joy', 0.0)]\n"
     ]
    }
   ],
   "source": [
    "# emotion with word list\n",
    "\n",
    "text = ['hate', 'love', 'worst', 'best']\n",
    "for i in range(len(text)):\n",
    "    emotion = NRCLex(text[i])\n",
    "    print(emotion.top_emotions)\n",
    "\n",
    "# 'worst' and 'best' seems neutral from the result"
   ]
  },
  {
   "cell_type": "markdown",
   "metadata": {},
   "source": [
    "### Reference\n",
    "\n",
    "- https://github.com/metalcorebear/NRCLex\n",
    "- https://www.youtube.com/watch?v=HujhnpzT24c"
   ]
  }
 ],
 "metadata": {
  "kernelspec": {
   "display_name": "Python 3",
   "language": "python",
   "name": "python3"
  },
  "language_info": {
   "codemirror_mode": {
    "name": "ipython",
    "version": 3
   },
   "file_extension": ".py",
   "mimetype": "text/x-python",
   "name": "python",
   "nbconvert_exporter": "python",
   "pygments_lexer": "ipython3",
   "version": "3.8.5"
  }
 },
 "nbformat": 4,
 "nbformat_minor": 4
}
