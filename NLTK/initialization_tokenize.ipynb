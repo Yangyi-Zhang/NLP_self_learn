{
 "cells": [
  {
   "cell_type": "markdown",
   "metadata": {},
   "source": [
    "## Natural Language Toolkit(NLTK)\n",
    "\n",
    "### $\\href{https://www.youtube.com/watch?v=FLZvOKSCkxY&list=PLQVvvaa0QuDf2JswnfiGkliBInZnIC4HL}{\\text{Initialization, Terminology, and Tokenizing}}$"
   ]
  },
  {
   "cell_type": "code",
   "execution_count": null,
   "metadata": {},
   "outputs": [
    {
     "name": "stdout",
     "output_type": "stream",
     "text": [
      "showing info https://raw.githubusercontent.com/nltk/nltk_data/gh-pages/index.xml\n"
     ]
    }
   ],
   "source": [
    "# initialization\n",
    "import nltk\n",
    "nltk.download()"
   ]
  },
  {
   "cell_type": "markdown",
   "metadata": {},
   "source": [
    "### Some Terminologies\n",
    "\n",
    "$\\href{https://www.analyticsvidhya.com/blog/2019/07/how-get-started-nlp-6-unique-ways-perform-tokenization/#:~:text=What%20is%20Tokenization%20in%20NLP%3F,-Tokenization%20is%20one&text=Tokenization%20is%20essentially%20splitting%20a,smaller%20units%20are%20called%20tokens.}{\\text{Tokenizing}}$\n",
    "- splitting text into smaller units, each unit called a token\n",
    "- can be performed in Python by the split function\n",
    "- word tokenizer\n",
    "    - separates by words\n",
    "- sentence tokenizer\n",
    "    - separates by sentence\n",
    "\n",
    "Lexicon\n",
    "- \"dictionary\", words and their meanings\n",
    "\n",
    "Corpora\n",
    "- body of text\n",
    "- Ex: medical journals, speech"
   ]
  },
  {
   "cell_type": "code",
   "execution_count": 2,
   "metadata": {},
   "outputs": [],
   "source": [
    "from nltk.tokenize import sent_tokenize, word_tokenize    # sentence tokenizer, word tokenizer"
   ]
  },
  {
   "cell_type": "code",
   "execution_count": 4,
   "metadata": {},
   "outputs": [
    {
     "name": "stdout",
     "output_type": "stream",
     "text": [
      "['Hello Dr. Pepper, how are you doing today?', 'The weather is great and Python is awsome.', 'The sky is pinkish-blue.', 'You should not eat cardboard.']\n",
      "['Hello', 'Dr.', 'Pepper', ',', 'how', 'are', 'you', 'doing', 'today', '?', 'The', 'weather', 'is', 'great', 'and', 'Python', 'is', 'awsome', '.', 'The', 'sky', 'is', 'pinkish-blue', '.', 'You', 'should', 'not', 'eat', 'cardboard', '.']\n"
     ]
    }
   ],
   "source": [
    "example_txt = '''Hello Dr. Pepper, how are you doing today? \n",
    "The weather is great and Python is awsome.\n",
    "The sky is pinkish-blue. You should not eat cardboard.'''\n",
    "# \"Dr. Pepper\" in sentence separator: punctuation, space, capital, but not new sentence\n",
    "print(sent_tokenize(example_txt))\n",
    "print(word_tokenize(example_txt))"
   ]
  },
  {
   "cell_type": "code",
   "execution_count": 5,
   "metadata": {},
   "outputs": [
    {
     "name": "stdout",
     "output_type": "stream",
     "text": [
      "Hello\n",
      "Dr.\n",
      "Pepper\n",
      ",\n",
      "how\n",
      "are\n",
      "you\n",
      "doing\n",
      "today\n",
      "?\n",
      "The\n",
      "weather\n",
      "is\n",
      "great\n",
      "and\n",
      "Python\n",
      "is\n",
      "awsome\n",
      ".\n",
      "The\n",
      "sky\n",
      "is\n",
      "pinkish-blue\n",
      ".\n",
      "You\n",
      "should\n",
      "not\n",
      "eat\n",
      "cardboard\n",
      ".\n"
     ]
    }
   ],
   "source": [
    "for i in word_tokenize(example_txt):    # for each word in example text\n",
    "    print(i)"
   ]
  }
 ],
 "metadata": {
  "kernelspec": {
   "display_name": "Python 3",
   "language": "python",
   "name": "python3"
  },
  "language_info": {
   "codemirror_mode": {
    "name": "ipython",
    "version": 3
   },
   "file_extension": ".py",
   "mimetype": "text/x-python",
   "name": "python",
   "nbconvert_exporter": "python",
   "pygments_lexer": "ipython3",
   "version": "3.8.5"
  }
 },
 "nbformat": 4,
 "nbformat_minor": 4
}
