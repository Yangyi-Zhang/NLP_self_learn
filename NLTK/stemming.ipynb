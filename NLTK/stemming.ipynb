{
 "cells": [
  {
   "cell_type": "markdown",
   "metadata": {},
   "source": [
    "## Stemming\n",
    "\n",
    "- Removing word affixes from the end of a word while maintaining the meaning\n",
    "    - reading, reader, read\n",
    "- Thus to use less space in disctionary"
   ]
  },
  {
   "cell_type": "code",
   "execution_count": 1,
   "metadata": {},
   "outputs": [],
   "source": [
    "from nltk.stem import PorterStemmer\n",
    "from nltk.tokenize import word_tokenize"
   ]
  },
  {
   "cell_type": "code",
   "execution_count": 4,
   "metadata": {},
   "outputs": [
    {
     "name": "stdout",
     "output_type": "stream",
     "text": [
      "python\n",
      "python\n",
      "python\n",
      "python\n",
      "pythonli\n",
      "python\n"
     ]
    }
   ],
   "source": [
    "ps = PorterStemmer()\n",
    "example_words = [\"python\",\"pythoning\",\"pythoner\",\"pythoned\",\"pythonly\",\"PYTHON\"]\n",
    "for w in example_words:\n",
    "    print(ps.stem(w))"
   ]
  },
  {
   "cell_type": "code",
   "execution_count": 5,
   "metadata": {},
   "outputs": [
    {
     "name": "stdout",
     "output_type": "stream",
     "text": [
      "It\n",
      "is\n",
      "veri\n",
      "import\n",
      "to\n",
      "be\n",
      "pythonli\n",
      "while\n",
      "you\n",
      "are\n",
      "python\n",
      "with\n",
      "python\n",
      ".\n",
      "all\n",
      "python\n",
      "have\n",
      "python\n",
      "poorli\n",
      "at\n",
      "least\n",
      "onc\n",
      ".\n"
     ]
    }
   ],
   "source": [
    "new_text = '''It is very important to be pythonly while you are pythoning with python. \n",
    "All Pythoners have pythoned poorly at least once.'''\n",
    "words = word_tokenize(new_text)\n",
    "for w in words:\n",
    "    print(ps.stem(w))"
   ]
  },
  {
   "cell_type": "code",
   "execution_count": 8,
   "metadata": {},
   "outputs": [
    {
     "name": "stdout",
     "output_type": "stream",
     "text": [
      "biolog\n",
      "geographi\n",
      "sociolog\n",
      "bibliographi\n",
      "mytholog\n",
      "myth\n"
     ]
    }
   ],
   "source": [
    "example_words = [\"biology\",\"geography\",\"sociology\",\"bibliography\",\"mythology\",\"myth\"]\n",
    "for w in example_words:\n",
    "    print(ps.stem(w))"
   ]
  },
  {
   "cell_type": "code",
   "execution_count": 9,
   "metadata": {},
   "outputs": [
    {
     "name": "stdout",
     "output_type": "stream",
     "text": [
      "write\n",
      "writer\n",
      "write\n",
      "written\n",
      "wrote\n"
     ]
    }
   ],
   "source": [
    "example_words = [\"write\",\"writer\",\"writing\",\"written\",\"wrote\"]\n",
    "for w in example_words:\n",
    "    print(ps.stem(w))"
   ]
  },
  {
   "cell_type": "code",
   "execution_count": 10,
   "metadata": {},
   "outputs": [],
   "source": [
    "# an alternative stemmer: Snowball Stemmer\n",
    "from nltk.stem import SnowballStemmer\n",
    "snowball = SnowballStemmer(language='english')"
   ]
  },
  {
   "cell_type": "code",
   "execution_count": 15,
   "metadata": {},
   "outputs": [
    {
     "name": "stdout",
     "output_type": "stream",
     "text": [
      "loudli\n",
      "loud\n"
     ]
    }
   ],
   "source": [
    "print(ps.stem('loudly'))\n",
    "print(snowball.stem('loudly'))"
   ]
  },
  {
   "cell_type": "code",
   "execution_count": 16,
   "metadata": {},
   "outputs": [
    {
     "name": "stdout",
     "output_type": "stream",
     "text": [
      "gener\n",
      "gener\n",
      "generic\n",
      "generous\n"
     ]
    }
   ],
   "source": [
    "# snowball prevents overstemming:\n",
    "print(ps.stem('generically'))\n",
    "print(ps.stem('generous'))\n",
    "\n",
    "print(snowball.stem('generically'))\n",
    "print(snowball.stem('generous'))"
   ]
  },
  {
   "cell_type": "markdown",
   "metadata": {},
   "source": [
    "We also have LancasterStemmer, which reduces words to the shortest stem possible"
   ]
  },
  {
   "cell_type": "markdown",
   "metadata": {},
   "source": [
    "## Reference\n",
    "\n",
    "- $\\href{https://www.youtube.com/watch?v=yGKTphqxR9Q&list=PLQVvvaa0QuDf2JswnfiGkliBInZnIC4HL&index=3}{\\text{sentdex }}$, Youtube\n",
    "- $\\href{https://towardsdatascience.com/stemming-corpus-with-nltk-7a6a6d02d3e5}{\\text{Stemming Text with NLTK}}$, Towards Data Science"
   ]
  }
 ],
 "metadata": {
  "kernelspec": {
   "display_name": "Python 3",
   "language": "python",
   "name": "python3"
  },
  "language_info": {
   "codemirror_mode": {
    "name": "ipython",
    "version": 3
   },
   "file_extension": ".py",
   "mimetype": "text/x-python",
   "name": "python",
   "nbconvert_exporter": "python",
   "pygments_lexer": "ipython3",
   "version": "3.8.5"
  }
 },
 "nbformat": 4,
 "nbformat_minor": 4
}
