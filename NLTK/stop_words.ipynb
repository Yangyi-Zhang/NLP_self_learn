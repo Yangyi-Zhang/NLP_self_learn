{
 "cells": [
  {
   "cell_type": "markdown",
   "metadata": {},
   "source": [
    "## Removing Stop Words\n",
    "\n",
    "Stop Words: words we want to eliminate because they appears so frequently that they provide little useful information"
   ]
  },
  {
   "cell_type": "code",
   "execution_count": 1,
   "metadata": {},
   "outputs": [],
   "source": [
    "from nltk.corpus import stopwords\n",
    "from nltk.tokenize import word_tokenize"
   ]
  },
  {
   "cell_type": "code",
   "execution_count": 2,
   "metadata": {},
   "outputs": [
    {
     "name": "stdout",
     "output_type": "stream",
     "text": [
      "{\"isn't\", \"wasn't\", 'once', 'their', 'but', 'all', \"won't\", 'how', 'needn', 'himself', 'its', \"haven't\", 'who', \"didn't\", 'me', 'own', 'been', 'just', 'in', 'don', 'so', \"needn't\", 'below', 'haven', 'we', 'down', 'of', 'it', 'both', 'that', 'mightn', 'having', 'yours', 'ourselves', \"mightn't\", 'too', \"hadn't\", \"couldn't\", 'these', \"you've\", 'the', 'to', 'further', 'here', 'through', \"shouldn't\", 'they', 'mustn', 'nor', \"wouldn't\", 'y', 'when', 'from', \"hasn't\", 'between', 'why', 're', 'which', 'for', 'such', 'against', 'because', 'off', 'herself', 'if', 'out', 'doesn', 'them', 'those', 'had', 'while', 'about', 'same', 'm', 'i', \"it's\", 'our', 'does', 'than', 'on', 'by', 'before', 'his', 'myself', 'at', \"you'd\", 'can', 'again', 'ma', 'no', 'am', 'wasn', 'aren', 'my', 'your', 'then', 'now', 'hasn', 'up', 'any', \"doesn't\", 'not', 'couldn', 'she', 'has', 'themselves', 'other', 'was', 'weren', 'with', 'be', 'most', 'shan', 'ours', 'won', 'o', 'didn', \"you'll\", 'under', 'ain', 'more', 'only', \"that'll\", 'are', 'do', 'there', 'll', 'after', 'yourselves', 'over', 'a', 'an', 'should', 's', 'into', \"she's\", 'will', 'hers', 'and', 'did', 'very', \"you're\", \"should've\", 'he', 've', \"aren't\", 'her', 'whom', 'being', 'd', 'few', \"weren't\", 'what', \"shan't\", 'theirs', 'doing', 'some', 'as', 'you', 'yourself', 'above', 'hadn', 't', 'this', 'or', 'each', 'during', 'itself', 'him', 'where', 'have', 'shouldn', 'were', 'is', 'isn', 'until', \"don't\", \"mustn't\", 'wouldn'}\n"
     ]
    }
   ],
   "source": [
    "example_sent = \"This is an examples showing off stop words filtration.\"\n",
    "stop_words = set(stopwords.words(\"english\"))    # use stop words defined by NLTK\n",
    "print(stop_words)"
   ]
  },
  {
   "cell_type": "code",
   "execution_count": 4,
   "metadata": {},
   "outputs": [
    {
     "name": "stdout",
     "output_type": "stream",
     "text": [
      "['This', 'examples', 'showing', 'stop', 'words', 'filtration', '.']\n"
     ]
    }
   ],
   "source": [
    "words = word_tokenize(example_sent)\n",
    "filtered_sent = []\n",
    "\n",
    "for w in words:\n",
    "    if w not in stop_words:\n",
    "        filtered_sent.append(w)\n",
    "print(filtered_sent)    # \"is\", \"an\" removed"
   ]
  },
  {
   "cell_type": "code",
   "execution_count": 5,
   "metadata": {},
   "outputs": [
    {
     "name": "stdout",
     "output_type": "stream",
     "text": [
      "['This', 'examples', 'showing', 'stop', 'words', 'filtration', '.']\n"
     ]
    }
   ],
   "source": [
    "# one line alternative:\n",
    "filtered_sent = [w for w in words if not w in stop_words]\n",
    "print(filtered_sent)"
   ]
  }
 ],
 "metadata": {
  "kernelspec": {
   "display_name": "Python 3",
   "language": "python",
   "name": "python3"
  },
  "language_info": {
   "codemirror_mode": {
    "name": "ipython",
    "version": 3
   },
   "file_extension": ".py",
   "mimetype": "text/x-python",
   "name": "python",
   "nbconvert_exporter": "python",
   "pygments_lexer": "ipython3",
   "version": "3.8.5"
  }
 },
 "nbformat": 4,
 "nbformat_minor": 4
}
